{
 "cells": [
  {
   "cell_type": "markdown",
   "metadata": {},
   "source": [
    "# Collaboration and Competition\n",
    "\n",
    "---\n",
    "\n",
    "Congratulations for completing the third project of the [Deep Reinforcement Learning Nanodegree](https://www.udacity.com/course/deep-reinforcement-learning-nanodegree--nd893) program!  In this notebook, you will learn how to control agents in a more challenging environment, where the goal is to train a team of agents to play soccer.  **Note that this exercise is optional!**\n",
    "\n",
    "### 1. Start the Environment\n",
    "\n",
    "We begin by importing the necessary packages.  If the code cell below returns an error, please revisit the project instructions to double-check that you have installed [Unity ML-Agents](https://github.com/Unity-Technologies/ml-agents/blob/master/docs/Installation.md) and [NumPy](http://www.numpy.org/)."
   ]
  },
  {
   "cell_type": "code",
   "execution_count": 1,
   "metadata": {},
   "outputs": [],
   "source": [
    "%load_ext autoreload\n",
    "%autoreload 2"
   ]
  },
  {
   "cell_type": "code",
   "execution_count": 2,
   "metadata": {},
   "outputs": [],
   "source": [
    "# For Debugging\n",
    "import os\n",
    "os.environ['CUDA_LAUNCH_BLOCKING'] = \"1\""
   ]
  },
  {
   "cell_type": "code",
   "execution_count": 3,
   "metadata": {},
   "outputs": [],
   "source": [
    "import sys\n",
    "sys.path.insert(1, 'scripts/')  # TODO: insert at 1, 0 is the script path (or '' in REPL)\n",
    "\n",
    "from unityagents import UnityEnvironment\n",
    "import numpy as np\n",
    "import torch\n",
    "from collections import deque\n",
    "import shutil\n",
    "import pprint \n",
    "import matplotlib.pyplot as plt\n",
    "%matplotlib inline\n",
    "\n",
    "from ppo_agent import PPO_Agent\n",
    "from params import Params\n",
    "from logger import Logger"
   ]
  },
  {
   "cell_type": "code",
   "execution_count": 4,
   "metadata": {},
   "outputs": [
    {
     "data": {
      "text/plain": [
       "{'divide': 'warn', 'over': 'warn', 'under': 'ignore', 'invalid': 'warn'}"
      ]
     },
     "execution_count": 4,
     "metadata": {},
     "output_type": "execute_result"
    }
   ],
   "source": [
    "# For Debugging (Might slow progress quite alot!)\n",
    "torch.autograd.set_detect_anomaly(True)\n",
    "np.seterr(all='raise')"
   ]
  },
  {
   "cell_type": "markdown",
   "metadata": {},
   "source": [
    "Next, we will start the environment!  **_Before running the code cell below_**, change the `file_name` parameter to match the location of the Unity environment that you downloaded.\n",
    "\n",
    "- **Mac**: `\"path/to/Soccer.app\"`\n",
    "- **Windows** (x86): `\"path/to/Soccer_Windows_x86/Soccer.exe\"`\n",
    "- **Windows** (x86_64): `\"path/to/Soccer_Windows_x86_64/Soccer.exe\"`\n",
    "- **Linux** (x86): `\"path/to/Soccer_Linux/Soccer.x86\"`\n",
    "- **Linux** (x86_64): `\"path/to/Soccer_Linux/Soccer.x86_64\"`\n",
    "- **Linux** (x86, headless): `\"path/to/Soccer_Linux_NoVis/Soccer.x86\"`\n",
    "- **Linux** (x86_64, headless): `\"path/to/Soccer_Linux_NoVis/Soccer.x86_64\"`\n",
    "\n",
    "For instance, if you are using a Mac, then you downloaded `Soccer.app`.  If this file is in the same folder as the notebook, then the line below should appear as follows:\n",
    "```\n",
    "env = UnityEnvironment(file_name=\"Soccer.app\")\n",
    "```"
   ]
  },
  {
   "cell_type": "code",
   "execution_count": 4,
   "metadata": {},
   "outputs": [
    {
     "name": "stderr",
     "output_type": "stream",
     "text": [
      "INFO:unityagents:\n",
      "'Academy' started successfully!\n",
      "Unity Academy name: Academy\n",
      "        Number of Brains: 2\n",
      "        Number of External Brains : 2\n",
      "        Lesson number : 0\n",
      "        Reset Parameters :\n",
      "\t\t\n",
      "Unity brain name: GoalieBrain\n",
      "        Number of Visual Observations (per agent): 0\n",
      "        Vector Observation space type: continuous\n",
      "        Vector Observation space size (per agent): 112\n",
      "        Number of stacked Vector Observation: 3\n",
      "        Vector Action space type: discrete\n",
      "        Vector Action space size (per agent): 4\n",
      "        Vector Action descriptions: , , , \n",
      "Unity brain name: StrikerBrain\n",
      "        Number of Visual Observations (per agent): 0\n",
      "        Vector Observation space type: continuous\n",
      "        Vector Observation space size (per agent): 112\n",
      "        Number of stacked Vector Observation: 3\n",
      "        Vector Action space type: discrete\n",
      "        Vector Action space size (per agent): 6\n",
      "        Vector Action descriptions: , , , , , \n"
     ]
    }
   ],
   "source": [
    "env = UnityEnvironment(file_name='Soccer_Windows_x86_64/Soccer.exe')\n",
    "# env = UnityEnvironment(file_name='Soccer_Windows_x86_64/Soccer.exe', no_graphics=True)"
   ]
  },
  {
   "cell_type": "markdown",
   "metadata": {},
   "source": [
    "Environments contain **_brains_** which are responsible for deciding the actions of their associated agents. Here we obtain separate brains for the striker and goalie agents."
   ]
  },
  {
   "cell_type": "code",
   "execution_count": 5,
   "metadata": {},
   "outputs": [
    {
     "name": "stdout",
     "output_type": "stream",
     "text": [
      "['GoalieBrain', 'StrikerBrain']\n"
     ]
    }
   ],
   "source": [
    "# print the brain names\n",
    "print(env.brain_names)\n",
    "\n",
    "# set the goalie brain\n",
    "g_brain_name = env.brain_names[0]\n",
    "g_brain = env.brains[g_brain_name]\n",
    "\n",
    "# set the striker brain\n",
    "s_brain_name = env.brain_names[1]\n",
    "s_brain = env.brains[s_brain_name]"
   ]
  },
  {
   "cell_type": "markdown",
   "metadata": {},
   "source": [
    "### 2. Examine the State and Action Spaces\n",
    "\n",
    "Run the code cell below to print some information about the environment."
   ]
  },
  {
   "cell_type": "code",
   "execution_count": 6,
   "metadata": {},
   "outputs": [
    {
     "name": "stdout",
     "output_type": "stream",
     "text": [
      "Number of goalie agents: 2\n",
      "Number of striker agents: 2\n",
      "Number of goalie actions: 4\n",
      "Number of striker actions: 6\n",
      "There are 2 goalie agents. Each receives a state with length: 336\n",
      "There are 2 striker agents. Each receives a state with length: 336\n"
     ]
    }
   ],
   "source": [
    "# reset the environment\n",
    "env_info = env.reset(train_mode=True)\n",
    "\n",
    "# number of agents \n",
    "num_g_agents = len(env_info[g_brain_name].agents)\n",
    "print('Number of goalie agents:', num_g_agents)\n",
    "num_s_agents = len(env_info[s_brain_name].agents)\n",
    "print('Number of striker agents:', num_s_agents)\n",
    "\n",
    "# number of actions\n",
    "g_action_size = g_brain.vector_action_space_size\n",
    "print('Number of goalie actions:', g_action_size)\n",
    "s_action_size = s_brain.vector_action_space_size\n",
    "print('Number of striker actions:', s_action_size)\n",
    "\n",
    "# examine the state space \n",
    "g_states = env_info[g_brain_name].vector_observations\n",
    "g_state_size = g_states.shape[1]\n",
    "print('There are {} goalie agents. Each receives a state with length: {}'.format(g_states.shape[0], g_state_size))\n",
    "s_states = env_info[s_brain_name].vector_observations\n",
    "s_state_size = s_states.shape[1]\n",
    "print('There are {} striker agents. Each receives a state with length: {}'.format(s_states.shape[0], s_state_size))"
   ]
  },
  {
   "cell_type": "markdown",
   "metadata": {},
   "source": [
    "### 3. Take Random Actions in the Environment\n",
    "\n",
    "In the next code cell, you will learn how to use the Python API to control the agents and receive feedback from the environment.\n",
    "\n",
    "Once this cell is executed, you will watch the agents' performance, if they select actions at random with each time step.  A window should pop up that allows you to observe the agents.\n",
    "\n",
    "Of course, as part of the project, you'll have to change the code so that the agents are able to use their experiences to gradually choose better actions when interacting with the environment!"
   ]
  },
  {
   "cell_type": "code",
   "execution_count": 8,
   "metadata": {},
   "outputs": [],
   "source": [
    "# for i in range(2):                                         # play game for 2 episodes\n",
    "#     env_info = env.reset(train_mode=False)                 # reset the environment    \n",
    "#     g_states = env_info[g_brain_name].vector_observations  # get initial state (goalies)\n",
    "#     s_states = env_info[s_brain_name].vector_observations  # get initial state (strikers)\n",
    "#     g_scores = np.zeros(num_g_agents)                      # initialize the score (goalies)\n",
    "#     s_scores = np.zeros(num_s_agents)                      # initialize the score (strikers)\n",
    "#     while True:\n",
    "#         # select actions and send to environment\n",
    "#         g_actions = np.random.randint(g_action_size, size=num_g_agents)\n",
    "#         s_actions = np.random.randint(s_action_size, size=num_s_agents)\n",
    "#         actions = dict(zip([g_brain_name, s_brain_name], \n",
    "#                            [g_actions, s_actions]))\n",
    "#         env_info = env.step(actions)                       \n",
    "        \n",
    "#         # get next states\n",
    "#         g_next_states = env_info[g_brain_name].vector_observations         \n",
    "#         s_next_states = env_info[s_brain_name].vector_observations\n",
    "        \n",
    "#         # get reward and update scores\n",
    "#         g_rewards = env_info[g_brain_name].rewards  \n",
    "#         s_rewards = env_info[s_brain_name].rewards\n",
    "#         g_scores += g_rewards\n",
    "#         s_scores += s_rewards\n",
    "        \n",
    "#         # check if episode finished\n",
    "#         done = np.any(env_info[g_brain_name].local_done)  \n",
    "        \n",
    "#         # roll over states to next time step\n",
    "#         g_states = g_next_states\n",
    "#         s_states = s_next_states\n",
    "        \n",
    "#         # exit loop if episode finished\n",
    "#         if done:                                           \n",
    "#             break\n",
    "#     print('Scores from episode {}: {} (goalies), {} (strikers)'.format(i+1, g_scores, s_scores))"
   ]
  },
  {
   "cell_type": "markdown",
   "metadata": {},
   "source": [
    "When finished, you can close the environment."
   ]
  },
  {
   "cell_type": "code",
   "execution_count": 9,
   "metadata": {},
   "outputs": [],
   "source": [
    "# env.close()"
   ]
  },
  {
   "cell_type": "markdown",
   "metadata": {},
   "source": [
    "### 4. It's Your Turn!\n",
    "\n",
    "Now it's your turn to train your own agent to solve the environment!  When training the environment, set `train_mode=True`, so that the line for resetting the environment looks like the following:\n",
    "```python\n",
    "env_info = env.reset(train_mode=True)[brain_name]\n",
    "\n",
    "While training is taking place, statistics on agent performance are available from Tensorboard. To launch it use:\n",
    "```python\n",
    "cd <PROJECT_DIR>\n",
    "tensorboard --logdir=runs\n",
    "```"
   ]
  },
  {
   "cell_type": "code",
   "execution_count": 63,
   "metadata": {},
   "outputs": [],
   "source": [
    "def ppo(params=Params(), g_logger=Logger(), s_logger=Logger()):\n",
    "    \n",
    "    env_info = env.reset(train_mode=True)\n",
    "    g_logger.initialize(g_agent, g_state_size, g_action_size)\n",
    "    s_logger.initialize(s_agent, s_state_size, s_action_size)\n",
    "    team_0_window_score = deque(maxlen=100)\n",
    "    team_0_window_score_wins = deque(maxlen=100)\n",
    "\n",
    "    try:\n",
    "        start_eps = params.eps_to_resume_from if not params.restart_training else 1        \n",
    "        for i_episode in range(start_eps, params.n_episodes+1):\n",
    "            env_info = env.reset(train_mode=True)                  # reset the environment\n",
    "            g_states = env_info[g_brain_name].vector_observations  # get initial state (goalies)\n",
    "            s_states = env_info[s_brain_name].vector_observations  # get initial state (strikers)            \n",
    "            g_scores = np.zeros(num_g_agents)                      # initialize the score (goalies)\n",
    "            s_scores = np.zeros(num_s_agents)                      # initialize the score (strikers)\n",
    "\n",
    "            #for t in range(params.max_t):    \n",
    "            while True:\n",
    "\n",
    "                # REPORT NAN STATES\n",
    "                if np.isnan(g_states).any() or np.isnan(s_states).any():\n",
    "                    print('\\nNaN found in states. Skipping this episode.')\n",
    "                    break\n",
    "\n",
    "                # Perform actions from each agent's policy network (clipped actions [0, -1])\n",
    "                g_action, g_log_prob, g_entropy = g_agent.act(np.expand_dims(g_states[0], 0))\n",
    "                s_action, s_log_prob, s_entropy = s_agent.act(np.expand_dims(s_states[0], 0))\n",
    "                g_actions = (g_action, np.random.randint(g_action_size))\n",
    "                s_actions = (s_action, np.random.randint(s_action_size))\n",
    "                actions = dict(zip([g_brain_name, s_brain_name], [g_actions, s_actions]))         \n",
    "                env_info = env.step(actions)                   \n",
    "\n",
    "                # get next states, rewards & dones\n",
    "                g_next_states = env_info[g_brain_name].vector_observations         \n",
    "                s_next_states = env_info[s_brain_name].vector_observations\n",
    "                g_rewards = env_info[g_brain_name].rewards  \n",
    "                s_rewards = env_info[s_brain_name].rewards\n",
    "                done = np.any(env_info[g_brain_name].local_done) \n",
    "\n",
    "                # REPORT NAN ACTIONS\n",
    "                if np.isnan(g_actions).any() or np.isnan(s_actions).any():\n",
    "                    print('\\nNaN found in actions. Skipping this episode.')\n",
    "                    break\n",
    "\n",
    "                if np.isnan(g_rewards).any() or np.isnan(s_rewards).any():\n",
    "                    print(\"NaN Reward Found! Skipping this episode.\")\n",
    "                    g_rewards = np.where(np.isnan(g_rewards), -5.0, g_rewards)\n",
    "                    s_rewards = np.where(np.isnan(s_rewards), -5.0, s_rewards)\n",
    "                    break\n",
    "\n",
    "                # Store in experience buffer & learn\n",
    "                all_states = np.concatenate((g_states[0], s_states[0], g_states[1], s_states[1]))            \n",
    "                g_agent.step(g_states[0], all_states, g_actions[0], g_rewards[0], g_log_prob)\n",
    "                s_agent.step(s_states[0], all_states, s_actions[0], s_rewards[0], s_log_prob)\n",
    "                g_states = g_next_states\n",
    "                s_states = s_next_states\n",
    "                g_scores += g_rewards\n",
    "                s_scores += s_rewards                \n",
    "\n",
    "                # Break if game is over (time out / score)\n",
    "                if done:   \n",
    "                    g_agent.learn()\n",
    "                    s_agent.learn()\n",
    "                    break \n",
    "\n",
    "            # Print crucial results for progress tracking\n",
    "            total_score = g_scores[0] + s_scores[0]\n",
    "            win = int(1 if total_score > 0 else 0)\n",
    "            g_logger.log_stats(i_episode, g_scores[0], g_agent.actor_loss, g_agent.critic_loss)\n",
    "            s_logger.log_stats(i_episode, s_scores[0], s_agent.actor_loss, s_agent.critic_loss)\n",
    "            print('\\rEpisode {}: \\t G_score: {:.2f} \\t S_Score: {:.2f} \\tTotal Score: {:.2f} \\tWin: {} \\t\\t'.format(i_episode, g_logger.scores_deque[-1], s_logger.scores_deque[-1], total_score, win), end=\"\")\n",
    "\n",
    "            \n",
    "            # TO ABSTRACT\n",
    "            team_0_window_score.append(total_score)\n",
    "            team_0_window_score_wins.append(win)\n",
    "            \n",
    "            if i_episode % params.save_every == 0:\n",
    "                s_logger.save_weights(i_episode)\n",
    "                g_logger.save_weights(i_episode)\n",
    "\n",
    "            if i_episode % params.print_every == 0:\n",
    "                print(\"\"\"\\rEpisode {}: \\t G_Actor_Loss: {:.2f} \\tG_Critic_Loss: {:.2f} \\tG_Average_Score: {:.2f} \\t\\t\n",
    "                       S_Actor Loss: {:.2f} \\tS_Critic Loss: {:.2f} \\tS_Average Score: {:.2f} \\t\\t\n",
    "                       Avg Total Score: {:.2f} \\tAvg Total Wins: {}/{}\\n\"\"\"\n",
    "                      .format(i_episode, np.mean(g_logger.actor_loss_deque), np.mean(g_logger.critic_loss_deque), np.mean(g_logger.scores_deque), \n",
    "                                         np.mean(s_logger.actor_loss_deque), np.mean(s_logger.critic_loss_deque), np.mean(s_logger.scores_deque),\n",
    "                                         np.mean(team_0_window_score), np.count_nonzero(team_0_window_score_wins), len(team_0_window_score_wins)))\n",
    "                #print('SCORES (this eps): ', score, '\\n')\n",
    "                #logger.plot_categorical_probs()\n",
    "\n",
    "                if np.mean(g_logger.scores_deque) >= params.target_score and np.mean(s_logger.scores_deque) >= params.target_score:\n",
    "                    print('\\nEnvironment solved in {:d} episodes!\\tAvg Total Score: {:.2f} \\tAvg Total Wins: {}/{}'\n",
    "                          .format(i_episode, np.mean(g_logger.scores_deque), np.mean(s_logger.scores_deque), len(team_0_window_score_wins)))\n",
    "                    if params.terminate_on_target_score:\n",
    "                        break\n",
    "\n",
    "        # Plot graphs & save final weights\n",
    "        g_logger.save_weights(i_episode)\n",
    "        s_logger.save_weights(i_episode)\n",
    "        if params.plot_stats:\n",
    "            g_logger.plot_stats(\"GOALIE\")                       \n",
    "            s_logger.plot_stats(\"STRIKER\")\n",
    "        g_logger.log_overall_perf_tb()\n",
    "        s_logger.log_overall_perf_tb()\n",
    "\n",
    "    # Catch any exceptions (Esp with keyboard interrupts)\n",
    "    except BaseException as error:\n",
    "        print('\\n\\n==== An exception occurred: {}'.format(error))\n",
    "        g_logger.save_weights(i_episode)\n",
    "        s_logger.save_weights(i_episode)\n",
    "        if params.plot_stats:\n",
    "            g_logger.plot_stats(\"GOALIE\")                       \n",
    "            s_logger.plot_stats(\"STRIKER\")\n",
    "        g_logger.log_overall_perf_tb()\n",
    "        s_logger.log_overall_perf_tb()\n",
    "    \n",
    "    return s_logger.scores_list"
   ]
  },
  {
   "cell_type": "code",
   "execution_count": 65,
   "metadata": {
    "scrolled": true
   },
   "outputs": [
    {
     "name": "stdout",
     "output_type": "stream",
     "text": [
      "\n",
      "=============== NETWORKS ===============\n",
      "actor_net Actor(\n",
      "  (fc1): Linear(in_features=336, out_features=256, bias=True)\n",
      "  (fc2): Linear(in_features=256, out_features=128, bias=True)\n",
      "  (fc3): Linear(in_features=128, out_features=4, bias=True)\n",
      ")\n",
      "critic_net Critic(\n",
      "  (fc1): Linear(in_features=1344, out_features=256, bias=True)\n",
      "  (fc2): Linear(in_features=256, out_features=128, bias=True)\n",
      "  (fc3): Linear(in_features=128, out_features=1, bias=True)\n",
      ")\n",
      "\n",
      "=============== HYPERPARAMS ===============\n",
      "DEVICE:  cuda:0\n",
      "RANDOM SEED:  1\n",
      "BATCH_SIZE:  60\n",
      "HIDDEN_SIZES (ACTOR):  (256, 128)\n",
      "HIDDEN_SIZES (CRITIC):  (256, 128)\n",
      "LR_ACTOR:  0.0005\n",
      "LR_CRITIC:  0.001\n",
      "GAMMA:  0.995\n",
      "BETA:  0.001\n",
      "BETA_DECAY:  0.995\n",
      "EPS:  0.1\n",
      "EPS_DECAY:  1\n",
      "WEIGHT_DECAY:  0\n",
      "===========================================\n",
      "\n",
      "\n",
      "~~~~~~ TRAINING ~~~~~\n",
      "Episode 2: \t G_Actor_Loss: 0.08 \tG_Critic_Loss: 0.00 \tG_Average_Score: 1.00 \t\t\n",
      "                       S_Actor Loss: -0.75 \tS_Critic Loss: 0.00 \tS_Average Score: -1.00 \t\t\n",
      "                       Avg Total Score: 0.00 \tAvg Total Wins: 0/2\n",
      "\n",
      "Episode 4: \t G_Actor_Loss: 0.06 \tG_Critic_Loss: 0.00 \tG_Average_Score: 0.74 \t\t\n",
      "                       S_Actor Loss: 0.30 \tS_Critic Loss: 0.00 \tS_Average Score: 0.36 \t\t\n",
      "                       Avg Total Score: 0.55 \tAvg Total Wins: 2/4\n",
      "\n",
      "\n",
      "===== GOALIE =====\n"
     ]
    },
    {
     "data": {
      "image/png": "[encoded data removed]",
      "text/plain": [
       "<Figure size 1440x360 with 3 Axes>"
      ]
     },
     "metadata": {
      "needs_background": "light"
     },
     "output_type": "display_data"
    },
    {
     "name": "stdout",
     "output_type": "stream",
     "text": [
      "\n",
      "===== STRIKER =====\n"
     ]
    },
    {
     "data": {
      "image/png": "[encoded data removed]",
      "text/plain": [
       "<Figure size 1440x360 with 3 Axes>"
      ]
     },
     "metadata": {
      "needs_background": "light"
     },
     "output_type": "display_data"
    },
    {
     "data": {
      "text/plain": [
       "[-1.0020000242511742,\n",
       " -1.0020000242511742,\n",
       " 0.01966664456995204,\n",
       " 0.6929999942076392]"
      ]
     },
     "execution_count": 65,
     "metadata": {},
     "output_type": "execute_result"
    }
   ],
   "source": [
    "##################\n",
    "# QUICK TEST\n",
    "##################\n",
    "\n",
    "# Params Override: Initialized in params.py\n",
    "params = Params()\n",
    "params.verbose = True\n",
    "params.random_seed = 1\n",
    "params.n_episodes=4\n",
    "params.max_t = 600\n",
    "params.print_every = 2\n",
    "params.save_every = 10\n",
    "params.log_weights_every = 1\n",
    "params.terminate_on_target_score = True\n",
    "params.plot_stats = True\n",
    "params.lr_actor = 5e-4                  \n",
    "params.lr_critic = 1e-3\n",
    "params.batch_size = 60\n",
    "params.checkpoint_actor_weights_dir = 'weights/checkpoint_actor/test'\n",
    "params.checkpoint_critic_weights_dir = 'weights/checkpoint_critic/test'\n",
    "\n",
    "\n",
    "#### MAIN #####\n",
    "g_logger = Logger(params)\n",
    "s_logger = Logger(params)\n",
    "total_state_size = 2*g_state_size + 2*s_state_size\n",
    "\n",
    "g_agent = PPO_Agent(g_state_size, total_state_size, g_action_size, params=params)\n",
    "s_agent = PPO_Agent(s_state_size, total_state_size, s_action_size, params=params)\n",
    "g_agent.print_init_messages()\n",
    "ppo(params, g_logger, s_logger)"
   ]
  },
  {
   "cell_type": "code",
   "execution_count": null,
   "metadata": {},
   "outputs": [
    {
     "name": "stdout",
     "output_type": "stream",
     "text": [
      "\n",
      "=============== NETWORKS ===============\n",
      "actor_net Actor(\n",
      "  (fc1): Linear(in_features=336, out_features=256, bias=True)\n",
      "  (fc2): Linear(in_features=256, out_features=128, bias=True)\n",
      "  (fc3): Linear(in_features=128, out_features=4, bias=True)\n",
      ")\n",
      "critic_net Critic(\n",
      "  (fc1): Linear(in_features=1344, out_features=256, bias=True)\n",
      "  (fc2): Linear(in_features=256, out_features=128, bias=True)\n",
      "  (fc3): Linear(in_features=128, out_features=1, bias=True)\n",
      ")\n",
      "\n",
      "=============== HYPERPARAMS ===============\n",
      "DEVICE:  cuda:0\n",
      "RANDOM SEED:  1\n",
      "BATCH_SIZE:  60\n",
      "HIDDEN_SIZES (ACTOR):  (256, 128)\n",
      "HIDDEN_SIZES (CRITIC):  (256, 128)\n",
      "LR_ACTOR:  0.0005\n",
      "LR_CRITIC:  0.001\n",
      "GAMMA:  0.995\n",
      "BETA:  0.001\n",
      "BETA_DECAY:  0.995\n",
      "EPS:  0.1\n",
      "EPS_DECAY:  1\n",
      "WEIGHT_DECAY:  0\n",
      "===========================================\n",
      "\n",
      "\n",
      "~~~~~~ TRAINING ~~~~~\n",
      "Episode 10: \t G_Actor_Loss: 0.01 \tG_Critic_Loss: 0.00 \tG_Average_Score: 0.40 \t\t\n",
      "                       S_Actor Loss: -0.06 \tS_Critic Loss: 0.00 \tS_Average Score: -0.51 \t\t\n",
      "                       Avg Total Score: -0.11 \tAvg Total Wins: 2/10\n",
      "\n",
      "Episode 15: \t G_score: 1.09 \t S_Score: 0.01 \tTotal Score: 1.10 \tWin: 1 \t\t\t\t\t"
     ]
    }
   ],
   "source": [
    "##################\n",
    "# QUICK TEST\n",
    "##################\n",
    "\n",
    "# Params Override: Initialized in params.py\n",
    "params = Params()\n",
    "params.verbose = True\n",
    "params.random_seed = 1\n",
    "params.n_episodes=10000\n",
    "params.max_t = 600\n",
    "params.print_every = 10\n",
    "params.save_every = 10\n",
    "params.log_weights_every = 10\n",
    "params.terminate_on_target_score = True\n",
    "params.plot_stats = True\n",
    "params.lr_actor = 5e-4                  \n",
    "params.lr_critic = 1e-3\n",
    "params.batch_size = 60\n",
    "params.checkpoint_actor_weights_dir = 'weights/checkpoint_actor/expt_longer'\n",
    "params.checkpoint_critic_weights_dir = 'weights/checkpoint_critic/expt_longer'\n",
    "\n",
    "\n",
    "#### MAIN #####\n",
    "g_logger = Logger(params)\n",
    "s_logger = Logger(params)\n",
    "total_state_size = 2*g_state_size + 2*s_state_size\n",
    "\n",
    "g_agent = PPO_Agent(g_state_size, total_state_size, g_action_size, params=params)\n",
    "s_agent = PPO_Agent(s_state_size, total_state_size, s_action_size, params=params)\n",
    "g_agent.print_init_messages()\n",
    "ppo(params, g_logger, s_logger)"
   ]
  }
 ],
 "metadata": {
  "kernelspec": {
   "display_name": "drlnd_gpu",
   "language": "python",
   "name": "drlnd_gpu"
  },
  "language_info": {
   "codemirror_mode": {
    "name": "ipython",
    "version": 3
   },
   "file_extension": ".py",
   "mimetype": "text/x-python",
   "name": "python",
   "nbconvert_exporter": "python",
   "pygments_lexer": "ipython3",
   "version": "3.6.13"
  }
 },
 "nbformat": 4,
 "nbformat_minor": 2
}
