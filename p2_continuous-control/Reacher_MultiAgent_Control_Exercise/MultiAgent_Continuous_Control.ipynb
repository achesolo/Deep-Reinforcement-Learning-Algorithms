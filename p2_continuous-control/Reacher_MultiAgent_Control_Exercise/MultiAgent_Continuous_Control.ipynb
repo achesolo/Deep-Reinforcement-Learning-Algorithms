{
 "cells": [
  {
   "cell_type": "markdown",
   "metadata": {},
   "source": [
    "# Continuous Control\n",
    "\n",
    "---\n",
    "\n",
    "In this notebook, you will learn how to use the Unity ML-Agents environment for the second project of the [Deep Reinforcement Learning Nanodegree](https://www.udacity.com/course/deep-reinforcement-learning-nanodegree--nd893) program.\n",
    "\n",
    "### 1. Start the Environment\n",
    "\n",
    "We begin by importing the necessary packages.  If the code cell below returns an error, please revisit the project instructions to double-check that you have installed [Unity ML-Agents](https://github.com/Unity-Technologies/ml-agents/blob/master/docs/Installation.md) and [NumPy](http://www.numpy.org/)."
   ]
  },
  {
   "cell_type": "code",
   "execution_count": 1,
   "metadata": {},
   "outputs": [],
   "source": [
    "%load_ext autoreload\n",
    "%autoreload 2"
   ]
  },
  {
   "cell_type": "code",
   "execution_count": 2,
   "metadata": {},
   "outputs": [],
   "source": [
    "from unityagents import UnityEnvironment\n",
    "import numpy as np\n",
    "import torch\n",
    "import matplotlib.pyplot as plt\n",
    "%matplotlib inline\n",
    "\n",
    "from collections import deque\n",
    "from d4pg_agent import Agent\n",
    "from params import Params"
   ]
  },
  {
   "cell_type": "markdown",
   "metadata": {},
   "source": [
    "Next, we will start the environment!  **_Before running the code cell below_**, change the `file_name` parameter to match the location of the Unity environment that you downloaded.\n",
    "\n",
    "- **Mac**: `\"path/to/Reacher.app\"`\n",
    "- **Windows** (x86): `\"path/to/Reacher_Windows_x86/Reacher.exe\"`\n",
    "- **Windows** (x86_64): `\"path/to/Reacher_Windows_x86_64/Reacher.exe\"`\n",
    "- **Linux** (x86): `\"path/to/Reacher_Linux/Reacher.x86\"`\n",
    "- **Linux** (x86_64): `\"path/to/Reacher_Linux/Reacher.x86_64\"`\n",
    "- **Linux** (x86, headless): `\"path/to/Reacher_Linux_NoVis/Reacher.x86\"`\n",
    "- **Linux** (x86_64, headless): `\"path/to/Reacher_Linux_NoVis/Reacher.x86_64\"`\n",
    "\n",
    "For instance, if you are using a Mac, then you downloaded `Reacher.app`.  If this file is in the same folder as the notebook, then the line below should appear as follows:\n",
    "```\n",
    "env = UnityEnvironment(file_name=\"Reacher.app\")\n",
    "```"
   ]
  },
  {
   "cell_type": "code",
   "execution_count": 3,
   "metadata": {},
   "outputs": [
    {
     "name": "stderr",
     "output_type": "stream",
     "text": [
      "INFO:unityagents:\n",
      "'Academy' started successfully!\n",
      "Unity Academy name: Academy\n",
      "        Number of Brains: 1\n",
      "        Number of External Brains : 1\n",
      "        Lesson number : 0\n",
      "        Reset Parameters :\n",
      "\t\tgoal_speed -> 1.0\n",
      "\t\tgoal_size -> 5.0\n",
      "Unity brain name: ReacherBrain\n",
      "        Number of Visual Observations (per agent): 0\n",
      "        Vector Observation space type: continuous\n",
      "        Vector Observation space size (per agent): 33\n",
      "        Number of stacked Vector Observation: 1\n",
      "        Vector Action space type: continuous\n",
      "        Vector Action space size (per agent): 4\n",
      "        Vector Action descriptions: , , , \n"
     ]
    }
   ],
   "source": [
    "env = UnityEnvironment(file_name='Reacher_Windows_multi_agent_x86_64/Reacher.exe')\n",
    "#env = UnityEnvironment(file_name='Reacher_Windows_single_agent_x86_64/Reacher.exe')"
   ]
  },
  {
   "cell_type": "markdown",
   "metadata": {},
   "source": [
    "Environments contain **_brains_** which are responsible for deciding the actions of their associated agents. Here we check for the first brain available, and set it as the default brain we will be controlling from Python."
   ]
  },
  {
   "cell_type": "code",
   "execution_count": 4,
   "metadata": {},
   "outputs": [],
   "source": [
    "# get the default brain\n",
    "brain_name = env.brain_names[0]\n",
    "brain = env.brains[brain_name]"
   ]
  },
  {
   "cell_type": "markdown",
   "metadata": {},
   "source": [
    "### 2. Examine the State and Action Spaces\n",
    "\n",
    "In this environment, a double-jointed arm can move to target locations. A reward of `+0.1` is provided for each step that the agent's hand is in the goal location. Thus, the goal of your agent is to maintain its position at the target location for as many time steps as possible.\n",
    "\n",
    "The observation space consists of `33` variables corresponding to position, rotation, velocity, and angular velocities of the arm.  Each action is a vector with four numbers, corresponding to torque applicable to two joints.  Every entry in the action vector must be a number between `-1` and `1`.\n",
    "\n",
    "Run the code cell below to print some information about the environment."
   ]
  },
  {
   "cell_type": "code",
   "execution_count": 5,
   "metadata": {},
   "outputs": [
    {
     "name": "stdout",
     "output_type": "stream",
     "text": [
      "Number of agents: 20\n",
      "Size of each action: 4\n",
      "There are 20 agents. Each observes a state with length: 33\n",
      "The state for the first agent looks like: [ 0.00000000e+00 -4.00000000e+00  0.00000000e+00  1.00000000e+00\n",
      " -0.00000000e+00 -0.00000000e+00 -4.37113883e-08  0.00000000e+00\n",
      "  0.00000000e+00  0.00000000e+00  0.00000000e+00  0.00000000e+00\n",
      "  0.00000000e+00  0.00000000e+00 -1.00000000e+01  0.00000000e+00\n",
      "  1.00000000e+00 -0.00000000e+00 -0.00000000e+00 -4.37113883e-08\n",
      "  0.00000000e+00  0.00000000e+00  0.00000000e+00  0.00000000e+00\n",
      "  0.00000000e+00  0.00000000e+00  5.75471878e+00 -1.00000000e+00\n",
      "  5.55726624e+00  0.00000000e+00  1.00000000e+00  0.00000000e+00\n",
      " -1.68164849e-01]\n"
     ]
    }
   ],
   "source": [
    "# reset the environment\n",
    "env_info = env.reset(train_mode=True)[brain_name]\n",
    "\n",
    "# number of agents\n",
    "num_agents = len(env_info.agents)\n",
    "print('Number of agents:', num_agents)\n",
    "\n",
    "# size of each action\n",
    "action_size = brain.vector_action_space_size\n",
    "print('Size of each action:', action_size)\n",
    "\n",
    "# examine the state space \n",
    "states = env_info.vector_observations\n",
    "state_size = states.shape[1]\n",
    "print('There are {} agents. Each observes a state with length: {}'.format(states.shape[0], state_size))\n",
    "print('The state for the first agent looks like:', states[0])"
   ]
  },
  {
   "cell_type": "markdown",
   "metadata": {},
   "source": [
    "### 3. Take Random Actions in the Environment\n",
    "\n",
    "In the next code cell, you will learn how to use the Python API to control the agent and receive feedback from the environment.\n",
    "\n",
    "Once this cell is executed, you will watch the agent's performance, if it selects an action at random with each time step.  A window should pop up that allows you to observe the agent, as it moves through the environment.  \n",
    "\n",
    "Of course, as part of the project, you'll have to change the code so that the agent is able to use its experience to gradually choose better actions when interacting with the environment!"
   ]
  },
  {
   "cell_type": "code",
   "execution_count": 6,
   "metadata": {},
   "outputs": [],
   "source": [
    "# env_info = env.reset(train_mode=False)[brain_name]     # reset the environment    \n",
    "# states = env_info.vector_observations                  # get the current state (for each agent)\n",
    "# scores = np.zeros(num_agents)                          # initialize the score (for each agent)\n",
    "# while True:\n",
    "#     actions = np.random.randn(num_agents, action_size) # select an action (for each agent)\n",
    "#     actions = np.clip(actions, -1, 1)                  # all actions between -1 and 1\n",
    "#     env_info = env.step(actions)[brain_name]           # send all actions to tne environment\n",
    "#     next_states = env_info.vector_observations         # get next state (for each agent)\n",
    "#     rewards = env_info.rewards                         # get reward (for each agent)\n",
    "#     dones = env_info.local_done                        # see if episode finished\n",
    "#     scores += env_info.rewards                         # update the score (for each agent)\n",
    "#     states = next_states                               # roll over states to next time step\n",
    "#     if np.any(dones):                                  # exit loop if episode finished\n",
    "#         break\n",
    "# print('Total score (averaged over agents) this episode: {}'.format(np.mean(scores)))"
   ]
  },
  {
   "cell_type": "markdown",
   "metadata": {},
   "source": [
    "When finished, you can close the environment."
   ]
  },
  {
   "cell_type": "code",
   "execution_count": 7,
   "metadata": {},
   "outputs": [],
   "source": [
    "# env.close()"
   ]
  },
  {
   "cell_type": "markdown",
   "metadata": {},
   "source": [
    "### 4. It's Your Turn!\n",
    "\n",
    "Now it's your turn to train your own agent to solve the environment!  When training the environment, set `train_mode=True`, so that the line for resetting the environment looks like the following:\n",
    "```python\n",
    "env_info = env.reset(train_mode=True)[brain_name]\n",
    "```"
   ]
  },
  {
   "cell_type": "code",
   "execution_count": 8,
   "metadata": {},
   "outputs": [],
   "source": [
    "def d4pg(scores, n_episodes=1000, max_t=300, print_every=100, save_every=100, target_score=1000.0, N_step_bootstrap=5, prefill_memory_qty=0):\n",
    "    \n",
    "    env_info = env.reset(train_mode=True)[brain_name]\n",
    "    scores_deque = deque(maxlen=print_every)\n",
    "    \n",
    "    for i_episode in range(1, n_episodes+1):\n",
    "        env_info = env.reset(train_mode=True)[brain_name]  # reset the environment\n",
    "        states = env_info.vector_observations              # get the current state\n",
    "        agent.reset()\n",
    "        score = 0\n",
    "                \n",
    "        for t in range(max_t):                             \n",
    "            \n",
    "            # Perform actions from each agent's policy network (clipped actions [0, -1])\n",
    "            actions = [ agent.act(state) for state in states ]  \n",
    "            actions = np.stack(actions)            \n",
    "            env_info = env.step(actions)[brain_name]      \n",
    "            next_states, rewards, dones = env_info.vector_observations, env_info.rewards, env_info.local_done\n",
    "            \n",
    "            agent.step(states, actions, rewards, next_states, dones, prefill_memory_qty, clear_nstep_buffer=(t==0))\n",
    "               \n",
    "            states = next_states\n",
    "            score += (sum(rewards) / len(rewards))  # ALT METRIC: Max\n",
    "            \n",
    "            # Prevent agent from learning NaN rewards\n",
    "            has_NAN_in_rewards = np.isnan(rewards)\n",
    "            if any(has_NAN_in_rewards):\n",
    "                rewards[has_NAN_in_rewards] = -5\n",
    "                print(\"NaN Reward Found! Converting to R=-5 instead...\")\n",
    "            \n",
    "            # Break if any of the agent is done\n",
    "            if any(dones):\n",
    "                break \n",
    "            \n",
    "        # Print crucial results for progress tracking\n",
    "        if agent.memory_buffer_prefilled(prefill_memory_qty):\n",
    "            \n",
    "            scores_deque.append(score)\n",
    "            scores.append(score)\n",
    "            print('\\rEpisode {}\\ Score: {:.2f}'.format(i_episode, scores_deque[-1]), end=\"\")\n",
    "\n",
    "            if i_episode % save_every == 0:\n",
    "                torch.save(agent.actor_local.state_dict(), 'checkpoint_actor.pth')\n",
    "                torch.save(agent.critic_local.state_dict(), 'checkpoint_critic.pth')\n",
    "\n",
    "            if i_episode % print_every == 0:\n",
    "                print('\\rEpisode {}\\tAverage Score: {:.2f}'.format(i_episode, np.mean(scores_deque)))\n",
    "\n",
    "                if np.mean(scores_deque) >= target_score:\n",
    "                    print('\\nEnvironment solved in {:d} episodes!\\tAverage Score: {:.2f}'\n",
    "                          .format(i_episode, np.mean(scores_deque)))\n",
    "                    break\n",
    "\n",
    "    return scores"
   ]
  },
  {
   "cell_type": "code",
   "execution_count": 9,
   "metadata": {},
   "outputs": [],
   "source": [
    "def plot_graph(scores):\n",
    "    # Plot a graph\n",
    "    fig = plt.figure()\n",
    "    ax = fig.add_subplot(111)\n",
    "    plt.plot(np.arange(1, len(scores)+1), scores)\n",
    "    plt.ylabel('Score')\n",
    "    plt.xlabel('Episode #')\n",
    "    plt.show()"
   ]
  },
  {
   "cell_type": "code",
   "execution_count": null,
   "metadata": {},
   "outputs": [
    {
     "name": "stdout",
     "output_type": "stream",
     "text": [
      "\n",
      "=============== HYPERPARAMS ===============\n",
      "DEVICE:  cuda:0\n",
      "BUFFER_SIZE:  300000\n",
      "BATCH_SIZE:  128\n",
      "GAMMA:  0.99\n",
      "TAU:  0.001\n",
      "LR_ACTOR:  0.0005\n",
      "LR_CRITIC:  0.001\n",
      "WEIGHT_DECAY:  0.0001\n",
      "HARD_UPDATE:  True\n",
      "LEARN_EVERY:  1\n",
      "HARD_WEIGHTS_UPDATE_EVERY:  350\n",
      "N_STEP_BOOTSTRAP:  5\n",
      "VMIN:  0\n",
      "VMAX:  0.3\n",
      "NUM_ATOMS:  100\n",
      "===========================================\n",
      "\n",
      "Prefilling Replay Memory Buffer: 5000 / 5000\n",
      " ===== Replay Buffer prefilled. Agent will begin learning. =====\n",
      "\n",
      "Episode 2\tAverage Score: 0.15\n",
      "Episode 4\tAverage Score: 0.36\n",
      "Episode 6\tAverage Score: 1.26\n",
      "Episode 8\tAverage Score: 2.25\n",
      "Episode 10\tAverage Score: 3.11\n",
      "Episode 12\tAverage Score: 4.81\n"
     ]
    }
   ],
   "source": [
    "##################\n",
    "scores = []\n",
    "args = Params()\n",
    "args.lr_actor = 5e-4\n",
    "args.lr_critic = 1e-3\n",
    "args.hard_weights_update_every = 350\n",
    "agent = Agent(state_size, action_size, random_seed=0, params=args)\n",
    "d4pg(scores, n_episodes=200, max_t=1000, print_every=2, save_every=100, target_score=30.0, N_step_bootstrap=5, prefill_memory_qty=5000)\n",
    "plot_graph(scores)"
   ]
  },
  {
   "cell_type": "code",
   "execution_count": null,
   "metadata": {},
   "outputs": [],
   "source": [
    "############################## PARAM SWEEP ##############################\n",
    "print(\"CUDA AVAILABLE: \", torch.cuda.is_available())\n",
    "\n",
    "# ##################\n",
    "# scores = []\n",
    "# args = Params()\n",
    "# args.lr_actor = 1e-4\n",
    "# args.lr_critic = 1e-4\n",
    "# args.hard_weights_update_every = 350\n",
    "# agent = Agent(state_size, action_size, random_seed=0, params=args)\n",
    "# d4pg(scores, n_episodes=50, max_t=1000, print_every=2, save_every=100, target_score=30.0, N_step_bootstrap=5, prefill_memory_qty=5000)\n",
    "# plot_graph(scores)\n",
    "\n",
    "# ##################\n",
    "# scores = []\n",
    "# args = Params()\n",
    "# args.lr_actor = 1e-4\n",
    "# args.lr_critic = 4e-4\n",
    "# args.hard_weights_update_every = 350\n",
    "# agent = Agent(state_size, action_size, random_seed=0, params=args)\n",
    "# d4pg(scores, n_episodes=50, max_t=1000, print_every=2, save_every=100, target_score=30.0, N_step_bootstrap=5, prefill_memory_qty=5000)\n",
    "# plot_graph(scores)\n",
    "\n",
    "##################\n",
    "scores = []\n",
    "args = Params()\n",
    "args.lr_actor = 5e-4\n",
    "args.lr_critic = 5e-4\n",
    "args.hard_weights_update_every = 350\n",
    "agent = Agent(state_size, action_size, random_seed=0, params=args)\n",
    "d4pg(scores, n_episodes=50, max_t=1000, print_every=2, save_every=100, target_score=30.0, N_step_bootstrap=5, prefill_memory_qty=5000)\n",
    "plot_graph(scores)\n",
    "\n",
    "##################\n",
    "scores = []\n",
    "args = Params()\n",
    "args.lr_actor = 5e-4\n",
    "args.lr_critic = 7.5e-4\n",
    "args.hard_weights_update_every = 350\n",
    "agent = Agent(state_size, action_size, random_seed=0, params=args)\n",
    "d4pg(scores, n_episodes=50, max_t=1000, print_every=2, save_every=100, target_score=30.0, N_step_bootstrap=5, prefill_memory_qty=5000)\n",
    "plot_graph(scores)"
   ]
  },
  {
   "cell_type": "code",
   "execution_count": null,
   "metadata": {},
   "outputs": [],
   "source": [
    "# ########################################################################################\n",
    "# # VARYING HARD UPDATE RATES\n",
    "# ########################################################################################\n",
    "\n",
    "##################\n",
    "scores = []\n",
    "args = Params()\n",
    "args.lr_actor = 1e-4\n",
    "args.lr_critic = 1e-4\n",
    "args.hard_weights_update_every = 350\n",
    "agent = Agent(state_size, action_size, random_seed=0, params=args)\n",
    "d4pg(scores, n_episodes=50, max_t=1000, print_every=2, save_every=100, target_score=30.0, N_step_bootstrap=1, prefill_memory_qty=5000)\n",
    "plot_graph(scores)\n",
    "\n",
    "##################\n",
    "scores = []\n",
    "args = Params()\n",
    "args.lr_actor = 1e-4\n",
    "args.lr_critic = 4e-4\n",
    "args.hard_weights_update_every = 350\n",
    "agent = Agent(state_size, action_size, random_seed=0, params=args)\n",
    "d4pg(scores, n_episodes=50, max_t=1000, print_every=2, save_every=100, target_score=30.0, N_step_bootstrap=1, prefill_memory_qty=5000)\n",
    "plot_graph(scores)\n",
    "\n",
    "##################\n",
    "scores = []\n",
    "args = Params()\n",
    "args.lr_actor = 5e-4\n",
    "args.lr_critic = 5e-4\n",
    "args.hard_weights_update_every = 350\n",
    "agent = Agent(state_size, action_size, random_seed=0, params=args)\n",
    "d4pg(scores, n_episodes=50, max_t=1000, print_every=2, save_every=100, target_score=30.0, N_step_bootstrap=1, prefill_memory_qty=5000)\n",
    "plot_graph(scores)\n",
    "\n",
    "##################\n",
    "scores = []\n",
    "args = Params()\n",
    "args.lr_actor = 5e-4\n",
    "args.lr_critic = 7.5e-4\n",
    "args.hard_weights_update_every = 350\n",
    "agent = Agent(state_size, action_size, random_seed=0, params=args)\n",
    "d4pg(scores, n_episodes=50, max_t=1000, print_every=2, save_every=100, target_score=30.0, N_step_bootstrap=1, prefill_memory_qty=5000)\n",
    "plot_graph(scores)"
   ]
  },
  {
   "cell_type": "markdown",
   "metadata": {},
   "source": [
    "### 4. Watch a Smart Agent!\n",
    "\n",
    "In the next code cell, you will load the trained weights from file to watch a smart agent!"
   ]
  },
  {
   "cell_type": "code",
   "execution_count": null,
   "metadata": {},
   "outputs": [],
   "source": [
    "# # load the weights from file\n",
    "# agent = Agent(state_size, action_size, random_seed=1)\n",
    "# agent.actor_local.load_state_dict(torch.load('checkpoint_actor.pth'))\n",
    "# agent.critic_local.load_state_dict(torch.load('checkpoint_critic.pth'))\n",
    "\n",
    "\n",
    "# env_info = env.reset(train_mode=False)[brain_name]     # reset the environment\n",
    "# states = env_info.vector_observations                # get the current state\n",
    "# score = 0                                              # initialize the score\n",
    "# while True:\n",
    "#     # Perform actions from each agent's policy network (clipped actions [0, -1])\n",
    "#     actions = [ agent.act(state, add_noise=False) for state in states ]  \n",
    "#     actions = np.stack(actions)      \n",
    "#     env_info = env.step(actions)[brain_name]  # send the action to the environment (BUG: Cast action to int)\n",
    "#     next_states = env_info.vector_observations       # get the next state\n",
    "#     rewards = env_info.rewards                       # get the reward\n",
    "#     dones = env_info.local_done                      # see if episode has finished\n",
    "#     score += max(rewards)                                    # update the score\n",
    "#     states = next_states                                 # roll over the state to next time step\n",
    "#     if max(dones):                                           # exit loop if episode finished\n",
    "#         break\n",
    "    \n",
    "# print(\"Score: {}\".format(score))"
   ]
  },
  {
   "cell_type": "markdown",
   "metadata": {},
   "source": [
    "When finished, you can close the environment."
   ]
  },
  {
   "cell_type": "code",
   "execution_count": null,
   "metadata": {},
   "outputs": [],
   "source": [
    "# env.close()"
   ]
  }
 ],
 "metadata": {
  "kernelspec": {
   "display_name": "drlnd_gpu",
   "language": "python",
   "name": "drlnd_gpu"
  },
  "language_info": {
   "codemirror_mode": {
    "name": "ipython",
    "version": 3
   },
   "file_extension": ".py",
   "mimetype": "text/x-python",
   "name": "python",
   "nbconvert_exporter": "python",
   "pygments_lexer": "ipython3",
   "version": "3.6.13"
  }
 },
 "nbformat": 4,
 "nbformat_minor": 2
}
