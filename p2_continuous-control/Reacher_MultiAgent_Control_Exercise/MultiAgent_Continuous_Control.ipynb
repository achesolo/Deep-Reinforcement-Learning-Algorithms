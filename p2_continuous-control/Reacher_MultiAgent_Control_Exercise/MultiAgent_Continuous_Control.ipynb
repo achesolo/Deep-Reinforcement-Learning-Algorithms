{
 "cells": [
  {
   "cell_type": "markdown",
   "metadata": {},
   "source": [
    "# Continuous Control\n",
    "\n",
    "---\n",
    "\n",
    "In this notebook, you will learn how to use the Unity ML-Agents environment for the second project of the [Deep Reinforcement Learning Nanodegree](https://www.udacity.com/course/deep-reinforcement-learning-nanodegree--nd893) program.\n",
    "\n",
    "### 1. Start the Environment\n",
    "\n",
    "We begin by importing the necessary packages.  If the code cell below returns an error, please revisit the project instructions to double-check that you have installed [Unity ML-Agents](https://github.com/Unity-Technologies/ml-agents/blob/master/docs/Installation.md) and [NumPy](http://www.numpy.org/)."
   ]
  },
  {
   "cell_type": "code",
   "execution_count": 11,
   "metadata": {},
   "outputs": [
    {
     "name": "stdout",
     "output_type": "stream",
     "text": [
      "The autoreload extension is already loaded. To reload it, use:\n",
      "  %reload_ext autoreload\n"
     ]
    }
   ],
   "source": [
    "%load_ext autoreload\n",
    "%autoreload 2"
   ]
  },
  {
   "cell_type": "code",
   "execution_count": 12,
   "metadata": {},
   "outputs": [],
   "source": [
    "import sys\n",
    "sys.path.insert(1, 'scripts/')  # TODO: insert at 1, 0 is the script path (or '' in REPL)\n",
    "\n",
    "from unityagents import UnityEnvironment\n",
    "import numpy as np\n",
    "import torch\n",
    "from collections import deque\n",
    "import matplotlib.pyplot as plt\n",
    "%matplotlib inline\n",
    "\n",
    "from d4pg_agent import D4PG_Agent\n",
    "from params import Params\n",
    "from logger import Logger"
   ]
  },
  {
   "cell_type": "markdown",
   "metadata": {},
   "source": [
    "Next, we will start the environment!  **_Before running the code cell below_**, change the `file_name` parameter to match the location of the Unity environment that you downloaded.\n",
    "\n",
    "- **Mac**: `\"path/to/Reacher.app\"`\n",
    "- **Windows** (x86): `\"path/to/Reacher_Windows_x86/Reacher.exe\"`\n",
    "- **Windows** (x86_64): `\"path/to/Reacher_Windows_x86_64/Reacher.exe\"`\n",
    "- **Linux** (x86): `\"path/to/Reacher_Linux/Reacher.x86\"`\n",
    "- **Linux** (x86_64): `\"path/to/Reacher_Linux/Reacher.x86_64\"`\n",
    "- **Linux** (x86, headless): `\"path/to/Reacher_Linux_NoVis/Reacher.x86\"`\n",
    "- **Linux** (x86_64, headless): `\"path/to/Reacher_Linux_NoVis/Reacher.x86_64\"`\n",
    "\n",
    "For instance, if you are using a Mac, then you downloaded `Reacher.app`.  If this file is in the same folder as the notebook, then the line below should appear as follows:\n",
    "```\n",
    "env = UnityEnvironment(file_name=\"Reacher.app\")\n",
    "```"
   ]
  },
  {
   "cell_type": "code",
   "execution_count": 13,
   "metadata": {},
   "outputs": [
    {
     "name": "stderr",
     "output_type": "stream",
     "text": [
      "INFO:unityagents:\n",
      "'Academy' started successfully!\n",
      "Unity Academy name: Academy\n",
      "        Number of Brains: 1\n",
      "        Number of External Brains : 1\n",
      "        Lesson number : 0\n",
      "        Reset Parameters :\n",
      "\t\tgoal_speed -> 1.0\n",
      "\t\tgoal_size -> 5.0\n",
      "Unity brain name: ReacherBrain\n",
      "        Number of Visual Observations (per agent): 0\n",
      "        Vector Observation space type: continuous\n",
      "        Vector Observation space size (per agent): 33\n",
      "        Number of stacked Vector Observation: 1\n",
      "        Vector Action space type: continuous\n",
      "        Vector Action space size (per agent): 4\n",
      "        Vector Action descriptions: , , , \n"
     ]
    }
   ],
   "source": [
    "env = UnityEnvironment(file_name='Reacher_Windows_multi_agent_x86_64/Reacher.exe')\n",
    "#env = UnityEnvironment(file_name='Reacher_Windows_single_agent_x86_64/Reacher.exe')"
   ]
  },
  {
   "cell_type": "markdown",
   "metadata": {},
   "source": [
    "Environments contain **_brains_** which are responsible for deciding the actions of their associated agents. Here we check for the first brain available, and set it as the default brain we will be controlling from Python."
   ]
  },
  {
   "cell_type": "code",
   "execution_count": 14,
   "metadata": {},
   "outputs": [],
   "source": [
    "# get the default brain\n",
    "brain_name = env.brain_names[0]\n",
    "brain = env.brains[brain_name]"
   ]
  },
  {
   "cell_type": "markdown",
   "metadata": {},
   "source": [
    "### 2. Examine the State and Action Spaces\n",
    "\n",
    "In this environment, a double-jointed arm can move to target locations. A reward of `+0.1` is provided for each step that the agent's hand is in the goal location. Thus, the goal of your agent is to maintain its position at the target location for as many time steps as possible.\n",
    "\n",
    "The observation space consists of `33` variables corresponding to position, rotation, velocity, and angular velocities of the arm.  Each action is a vector with four numbers, corresponding to torque applicable to two joints.  Every entry in the action vector must be a number between `-1` and `1`.\n",
    "\n",
    "Run the code cell below to print some information about the environment."
   ]
  },
  {
   "cell_type": "code",
   "execution_count": 15,
   "metadata": {},
   "outputs": [
    {
     "name": "stdout",
     "output_type": "stream",
     "text": [
      "Number of agents: 20\n",
      "Size of each action: 4\n",
      "There are 20 agents. Each observes a state with length: 33\n",
      "The state for the first agent looks like: [ 0.00000000e+00 -4.00000000e+00  0.00000000e+00  1.00000000e+00\n",
      " -0.00000000e+00 -0.00000000e+00 -4.37113883e-08  0.00000000e+00\n",
      "  0.00000000e+00  0.00000000e+00  0.00000000e+00  0.00000000e+00\n",
      "  0.00000000e+00  0.00000000e+00 -1.00000000e+01  0.00000000e+00\n",
      "  1.00000000e+00 -0.00000000e+00 -0.00000000e+00 -4.37113883e-08\n",
      "  0.00000000e+00  0.00000000e+00  0.00000000e+00  0.00000000e+00\n",
      "  0.00000000e+00  0.00000000e+00  5.75471878e+00 -1.00000000e+00\n",
      "  5.55726624e+00  0.00000000e+00  1.00000000e+00  0.00000000e+00\n",
      " -1.68164849e-01]\n"
     ]
    }
   ],
   "source": [
    "# reset the environment\n",
    "env_info = env.reset(train_mode=True)[brain_name]\n",
    "\n",
    "# number of agents\n",
    "num_agents = len(env_info.agents)\n",
    "print('Number of agents:', num_agents)\n",
    "\n",
    "# size of each action\n",
    "action_size = brain.vector_action_space_size\n",
    "print('Size of each action:', action_size)\n",
    "\n",
    "# examine the state space \n",
    "states = env_info.vector_observations\n",
    "state_size = states.shape[1]\n",
    "print('There are {} agents. Each observes a state with length: {}'.format(states.shape[0], state_size))\n",
    "print('The state for the first agent looks like:', states[0])"
   ]
  },
  {
   "cell_type": "markdown",
   "metadata": {},
   "source": [
    "### 3. Take Random Actions in the Environment\n",
    "\n",
    "In the next code cell, you will learn how to use the Python API to control the agent and receive feedback from the environment.\n",
    "\n",
    "Once this cell is executed, you will watch the agent's performance, if it selects an action at random with each time step.  A window should pop up that allows you to observe the agent, as it moves through the environment.  \n",
    "\n",
    "Of course, as part of the project, you'll have to change the code so that the agent is able to use its experience to gradually choose better actions when interacting with the environment!"
   ]
  },
  {
   "cell_type": "code",
   "execution_count": 16,
   "metadata": {},
   "outputs": [],
   "source": [
    "# env_info = env.reset(train_mode=False)[brain_name]     # reset the environment    \n",
    "# states = env_info.vector_observations                  # get the current state (for each agent)\n",
    "# scores = np.zeros(num_agents)                          # initialize the score (for each agent)\n",
    "# while True:\n",
    "#     actions = np.random.randn(num_agents, action_size) # select an action (for each agent)\n",
    "#     actions = np.clip(actions, -1, 1)                  # all actions between -1 and 1\n",
    "#     env_info = env.step(actions)[brain_name]           # send all actions to tne environment\n",
    "#     next_states = env_info.vector_observations         # get next state (for each agent)\n",
    "#     rewards = env_info.rewards                         # get reward (for each agent)\n",
    "#     dones = env_info.local_done                        # see if episode finished\n",
    "#     scores += env_info.rewards                         # update the score (for each agent)\n",
    "#     states = next_states                               # roll over states to next time step\n",
    "#     if np.any(dones):                                  # exit loop if episode finished\n",
    "#         break\n",
    "# print('Total score (averaged over agents) this episode: {}'.format(np.mean(scores)))"
   ]
  },
  {
   "cell_type": "markdown",
   "metadata": {},
   "source": [
    "When finished, you can close the environment."
   ]
  },
  {
   "cell_type": "code",
   "execution_count": 17,
   "metadata": {},
   "outputs": [],
   "source": [
    "# env.close()"
   ]
  },
  {
   "cell_type": "markdown",
   "metadata": {},
   "source": [
    "### 4. It's Your Turn!\n",
    "\n",
    "Now it's your turn to train your own agent to solve the environment!  When training the environment, set `train_mode=True`, so that the line for resetting the environment looks like the following:\n",
    "```python\n",
    "env_info = env.reset(train_mode=True)[brain_name]\n",
    "```"
   ]
  },
  {
   "cell_type": "code",
   "execution_count": 18,
   "metadata": {},
   "outputs": [],
   "source": [
    "def d4pg(params=Params(), logger=Logger()):\n",
    "    \n",
    "    env_info = env.reset(train_mode=True)[brain_name]\n",
    "    \n",
    "    for i_episode in range(1, params.n_episodes+1):\n",
    "        env_info = env.reset(train_mode=True)[brain_name]  # reset the environment\n",
    "        states = env_info.vector_observations              # get the current state\n",
    "        agent.reset()\n",
    "        score = 0\n",
    "                \n",
    "        for t in range(params.max_t):                             \n",
    "            \n",
    "            # Perform actions from each agent's policy network (clipped actions [0, -1])\n",
    "            actions = [ agent.act(state) for state in states ]  \n",
    "            actions = np.stack(actions)            \n",
    "            env_info = env.step(actions)[brain_name]      \n",
    "            next_states, rewards, dones = env_info.vector_observations, env_info.rewards, env_info.local_done\n",
    "            \n",
    "            agent.step(states, actions, rewards, next_states, dones, clear_nstep_buffer=(t==0))\n",
    "               \n",
    "            states = next_states\n",
    "            score += (sum(rewards) / len(rewards))  # ALT METRIC: Max\n",
    "            \n",
    "            # Prevent agent from learning NaN rewards\n",
    "            has_NAN_in_rewards = np.isnan(rewards)\n",
    "            if any(has_NAN_in_rewards):\n",
    "                rewards[has_NAN_in_rewards] = -5\n",
    "                print(\"NaN Reward Found! Converting to R=-5 instead...\")\n",
    "            \n",
    "            # Break if any of the agent is done\n",
    "            if any(dones):\n",
    "                break \n",
    "            \n",
    "        # Print crucial results for progress tracking\n",
    "        if agent.memory_buffer_prefilled():\n",
    "            \n",
    "            logger.scores_deque.append(score)\n",
    "            logger.actor_loss_deque.append(agent.actor_loss)\n",
    "            logger.critic_loss_deque.append(agent.critic_loss)\n",
    "            logger.scores_list.append(score)\n",
    "            logger.actor_loss_list.append(agent.actor_loss)\n",
    "            logger.critic_loss_list.append(agent.critic_loss)\n",
    "            \n",
    "            print('\\rEpisode {}\\ Score: {:.2f}'.format(i_episode, logger.scores_deque[-1]), end=\"\")\n",
    "\n",
    "            if i_episode % params.save_every == 0:\n",
    "                torch.save(agent.actor_local.state_dict(), \"weights/checkpoint_actor/checkpoint_actor_ep{}.pth\".format(i_episode))\n",
    "                torch.save(agent.critic_local.state_dict(), \"weights/checkpoint_critic/checkpoint_critic_ep{}.pth\".format(i_episode))\n",
    "\n",
    "            if i_episode % params.print_every == 0:\n",
    "                print('\\rEpisode {}: \\tActor Loss: {:.2f}\\n\\tAverage Score: {:.2f}'.format(i_episode, np.mean(logger.actor_loss_deque), np.mean(logger.scores_deque)))\n",
    "\n",
    "                if np.mean(logger.scores_deque) >= target_score:\n",
    "                    print('\\nEnvironment solved in {:d} episodes!\\tAverage Score: {:.2f}'\n",
    "                          .format(i_episode, np.mean(logger.scores_deque)))\n",
    "                    torch.save(agent.actor_local.state_dict(), \"weights/checkpoint_actor/checkpoint_actor_ep{}.pth\".format(i_episode))\n",
    "                    torch.save(agent.critic_local.state_dict(), \"weights/checkpoint_critic/checkpoint_critic_ep{}.pth\".format(i_episode))\n",
    "                    if params.terminate_on_target_score:\n",
    "                        break\n",
    "\n",
    "    # Plot graphs for scores & losses\n",
    "    if params.plot_stats:\n",
    "        logger.plot_stats()\n",
    "        \n",
    "    return logger.scores_list"
   ]
  },
  {
   "cell_type": "code",
   "execution_count": 19,
   "metadata": {
    "scrolled": true
   },
   "outputs": [
    {
     "name": "stdout",
     "output_type": "stream",
     "text": [
      "\n",
      "=============== NETWORKS ===============\n",
      "actor_local Actor(\n",
      "  (fc1): Linear(in_features=33, out_features=400, bias=True)\n",
      "  (fc2): Linear(in_features=400, out_features=300, bias=True)\n",
      "  (fc3): Linear(in_features=300, out_features=4, bias=True)\n",
      ")\n",
      "actor_target Actor(\n",
      "  (fc1): Linear(in_features=33, out_features=400, bias=True)\n",
      "  (fc2): Linear(in_features=400, out_features=300, bias=True)\n",
      "  (fc3): Linear(in_features=300, out_features=4, bias=True)\n",
      ")\n",
      "critic_local Critic(\n",
      "  (fc1): Linear(in_features=33, out_features=400, bias=True)\n",
      "  (fc2): Linear(in_features=404, out_features=300, bias=True)\n",
      "  (fc3): Linear(in_features=300, out_features=100, bias=True)\n",
      ")\n",
      "critic_target Critic(\n",
      "  (fc1): Linear(in_features=33, out_features=400, bias=True)\n",
      "  (fc2): Linear(in_features=404, out_features=300, bias=True)\n",
      "  (fc3): Linear(in_features=300, out_features=100, bias=True)\n",
      ")\n",
      "\n",
      "=============== HYPERPARAMS ===============\n",
      "DEVICE:  cuda:0\n",
      "RANDOM SEED:  0\n",
      "BUFFER_SIZE:  300000\n",
      "BATCH_SIZE:  128\n",
      "GAMMA:  0.99\n",
      "TAU:  0.001\n",
      "LR_ACTOR:  0.0005\n",
      "LR_CRITIC:  0.001\n",
      "WEIGHT_DECAY:  0.0001\n",
      "HARD_UPDATE:  True\n",
      "LEARN_EVERY:  1\n",
      "HARD_WEIGHTS_UPDATE_EVERY:  350\n",
      "N_STEP_BOOTSTRAP:  5\n",
      "VMIN:  0\n",
      "VMAX:  0.3\n",
      "NUM_ATOMS:  100\n",
      "===========================================\n",
      "\n",
      "Prefilling Replay Memory Buffer: 5000 / 5000\n",
      " ===== Replay Buffer prefilled. Agent will begin learning. =====\n",
      "\n",
      "Episode 4\\ Score: 0.01"
     ]
    },
    {
     "data": {
      "image/png": "[encoded data removed]",
      "text/plain": [
       "<Figure size 1440x360 with 3 Axes>"
      ]
     },
     "metadata": {
      "needs_background": "light"
     },
     "output_type": "display_data"
    },
    {
     "data": {
      "text/plain": [
       "[0.0, 0.011999999731779096]"
      ]
     },
     "execution_count": 19,
     "metadata": {},
     "output_type": "execute_result"
    }
   ],
   "source": [
    "# Params Override: Initialized in params.py\n",
    "params = Params()\n",
    "params.verbose = True\n",
    "params.random_seed = 0\n",
    "params.n_episodes=300\n",
    "params.max_t = 1000\n",
    "params.print_every = 20\n",
    "params.save_every = 100\n",
    "params.prefill_memory_qty=5000\n",
    "params.terminate_on_target_score = False\n",
    "params.plot_stats = True\n",
    "params.lr_actor = 5e-4                  \n",
    "params.lr_critic = 1e-3                \n",
    "\n",
    "#### MAIN #####\n",
    "logger = Logger()\n",
    "agent = D4PG_Agent(state_size, action_size, params=params)\n",
    "d4pg(params, logger)"
   ]
  },
  {
   "cell_type": "code",
   "execution_count": 20,
   "metadata": {},
   "outputs": [
    {
     "data": {
      "image/png": "[encoded data removed]",
      "text/plain": [
       "<Figure size 1440x360 with 3 Axes>"
      ]
     },
     "metadata": {
      "needs_background": "light"
     },
     "output_type": "display_data"
    }
   ],
   "source": [
    "def plot_graph(logger):\n",
    "    \n",
    "    _, axs = plt.subplots(1, 3, figsize=(20, 5))\n",
    "\n",
    "    # Scores\n",
    "    axs[0].plot(np.arange(1, len(logger.scores_list)+1), logger.scores_list)\n",
    "    axs[0].set(xlabel='Episode #', ylabel='Score')\n",
    "    axs[0].set_title('Rewards')\n",
    "        \n",
    "    # Actor Loss\n",
    "    axs[1].plot(np.arange(1, len(logger.actor_loss_list)+1), logger.actor_loss_list)\n",
    "    axs[1].set(xlabel='Episode #', ylabel='Loss')\n",
    "    axs[1].set_title('Actor Loss')\n",
    "    \n",
    "    # Critic Loss\n",
    "    axs[2].plot(np.arange(1, len(logger.critic_loss_list)+1), logger.critic_loss_list)\n",
    "    axs[2].set(xlabel='Episode #', ylabel='Loss')\n",
    "    axs[2].set_title('Critic Loss')\n",
    "    plt.show()\n",
    "    \n",
    "plot_graph(logger)"
   ]
  },
  {
   "cell_type": "code",
   "execution_count": 21,
   "metadata": {},
   "outputs": [],
   "source": [
    "# ########################################################################################\n",
    "# # PARAMETER SWEEP: VARYING HARD UPDATE RATES\n",
    "# ########################################################################################\n",
    "\n",
    "# print(\"CUDA AVAILABLE: \", torch.cuda.is_available())\n",
    "\n",
    "# ##################\n",
    "# scores = []\n",
    "# args = Params()\n",
    "# args.lr_actor = 1e-4\n",
    "# args.lr_critic = 1e-4\n",
    "# args.hard_weights_update_every = 350\n",
    "# agent = D4PG_Agent(state_size, action_size, random_seed=0, params=args)\n",
    "# d4pg(scores, n_episodes=50, max_t=1000, print_every=2, save_every=100, target_score=30.0, N_step_bootstrap=5, prefill_memory_qty=5000)\n",
    "# plot_graph(scores)\n",
    "\n",
    "# ##################\n",
    "# scores = []\n",
    "# args = Params()\n",
    "# args.lr_actor = 1e-4\n",
    "# args.lr_critic = 4e-4\n",
    "# args.hard_weights_update_every = 350\n",
    "# agent = D4PG_Agent(state_size, action_size, random_seed=0, params=args)\n",
    "# d4pg(scores, n_episodes=50, max_t=1000, print_every=2, save_every=100, target_score=30.0, N_step_bootstrap=5, prefill_memory_qty=5000)\n",
    "# plot_graph(scores)\n",
    "\n",
    "# ##################\n",
    "# scores = []\n",
    "# args = Params()\n",
    "# args.lr_actor = 5e-4\n",
    "# args.lr_critic = 5e-4\n",
    "# args.hard_weights_update_every = 350\n",
    "# agent = D4PG_Agent(state_size, action_size, random_seed=0, params=args)\n",
    "# d4pg(scores, n_episodes=50, max_t=1000, print_every=2, save_every=100, target_score=30.0, N_step_bootstrap=5, prefill_memory_qty=5000)\n",
    "# plot_graph(scores)\n",
    "\n",
    "# ##################\n",
    "# scores = []\n",
    "# args = Params()\n",
    "# args.lr_actor = 5e-4\n",
    "# args.lr_critic = 7.5e-4\n",
    "# args.hard_weights_update_every = 350\n",
    "# agent = D4PG_Agent(state_size, action_size, random_seed=0, params=args)\n",
    "# d4pg(scores, n_episodes=50, max_t=1000, print_every=2, save_every=100, target_score=30.0, N_step_bootstrap=5, prefill_memory_qty=5000)\n",
    "# plot_graph(scores)"
   ]
  },
  {
   "cell_type": "markdown",
   "metadata": {},
   "source": [
    "### 4. Watch a Smart Agent!\n",
    "\n",
    "In the next code cell, you will load the trained weights from file to watch a smart agent!"
   ]
  },
  {
   "cell_type": "code",
   "execution_count": 22,
   "metadata": {},
   "outputs": [],
   "source": [
    "# # load the weights from file\n",
    "# agent = D4PG_Agent(state_size, action_size, random_seed=1)\n",
    "# agent.actor_local.load_state_dict(torch.load('weights/saved/actor_v1.pth'))\n",
    "# agent.critic_local.load_state_dict(torch.load('weights/saved/critic_v1.pt'))\n",
    "\n",
    "\n",
    "# env_info = env.reset(train_mode=False)[brain_name]     # reset the environment\n",
    "# states = env_info.vector_observations                # get the current state\n",
    "# score = 0                                              # initialize the score\n",
    "# while True:\n",
    "#     # Perform actions from each agent's policy network (clipped actions [0, -1])\n",
    "#     actions = [ agent.act(state, add_noise=False) for state in states ]  \n",
    "#     actions = np.stack(actions)      \n",
    "#     env_info = env.step(actions)[brain_name]  # send the action to the environment (BUG: Cast action to int)\n",
    "#     next_states = env_info.vector_observations       # get the next state\n",
    "#     rewards = env_info.rewards                       # get the reward\n",
    "#     dones = env_info.local_done                      # see if episode has finished\n",
    "#     score += max(rewards)                                    # update the score\n",
    "#     states = next_states                                 # roll over the state to next time step\n",
    "#     if any(dones):                                           # exit loop if episode finished\n",
    "#         break\n",
    "    \n",
    "# print(\"Score: {}\".format(score))"
   ]
  },
  {
   "cell_type": "markdown",
   "metadata": {},
   "source": [
    "When finished, you can close the environment."
   ]
  },
  {
   "cell_type": "code",
   "execution_count": 23,
   "metadata": {},
   "outputs": [],
   "source": [
    "# env.close()"
   ]
  }
 ],
 "metadata": {
  "kernelspec": {
   "display_name": "drlnd_gpu",
   "language": "python",
   "name": "drlnd_gpu"
  },
  "language_info": {
   "codemirror_mode": {
    "name": "ipython",
    "version": 3
   },
   "file_extension": ".py",
   "mimetype": "text/x-python",
   "name": "python",
   "nbconvert_exporter": "python",
   "pygments_lexer": "ipython3",
   "version": "3.6.13"
  }
 },
 "nbformat": 4,
 "nbformat_minor": 2
}
